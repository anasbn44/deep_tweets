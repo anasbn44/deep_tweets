{
 "cells": [
  {
   "cell_type": "markdown",
   "source": [
    "## DeepTweets : Binary Classification task for tweets"
   ],
   "metadata": {
    "collapsed": false
   }
  },
  {
   "cell_type": "markdown",
   "source": [
    "### Outlines\n",
    "- [1. Packages](#1)\n",
    "- [2. Preprocessing](#2)\n",
    "    - [2.1 Data importation](#2.1)\n",
    "    - [2.2 Data Cleaning](#2.2)\n",
    "- [3. RNN with Tensorflow](#3)\n",
    "    - [3.1 Defining global variables](#3.1)\n",
    "    - [3.2 Training - Validation Split](#3.2)\n",
    "    - [3.3 Tokenization - Sequences, truncating and padding](#3.3)\n",
    "    - [3.4 Using pre-defined Embeddings](#3.4)\n",
    "    - [3.5 Representing the words in vocabulary using the embeddings](#3.5)\n",
    "    - [3.6 Defining a model](#3.6)\n",
    "    - [3.7 Plotting training history](#3.7)\n",
    "    - [3.8 Testing model](#3.8)\n",
    "- [4. Model comparison](#4)"
   ],
   "metadata": {
    "collapsed": false
   }
  },
  {
   "cell_type": "markdown",
   "source": [
    "<a name=\"1\"></a>\n",
    "### 1. Packages\n",
    "- [numpy](https://numpy.org/) package for scientific computing.\n",
    "- [pandas](https://pandas.pydata.org/ ) data analysis and manipulation library.\n",
    "- [matplotlib](http://matplotlib.org) visualization library.\n",
    "- [tensorflow](https://www.tensorflow.org/api_docs/python/tf/all_symbols) TensorFlow is an open source framework to run machine learning, deep learning and other statistical and predictive analytics workloads\n",
    "- [scikitlearn](https://scikit-learn.org/stable/) machine learning library that supports supervised and unsupervised learning.\n",
    "- [XGBoost](https://xgboost.readthedocs.io/en/stable/) optimized distributed gradient boosting library."
   ],
   "metadata": {
    "collapsed": false
   }
  },
  {
   "cell_type": "code",
   "execution_count": 240,
   "metadata": {
    "collapsed": true
   },
   "outputs": [],
   "source": [
    "import pandas as pd\n",
    "import numpy as np\n",
    "import string\n",
    "import re\n",
    "import tensorflow as tf\n",
    "from tensorflow.keras import Sequential\n",
    "from tensorflow.keras.layers import Dense, Embedding, Dropout, BatchNormalization, LSTM, Bidirectional\n",
    "from tensorflow.keras.preprocessing.text import Tokenizer\n",
    "from tensorflow.keras.preprocessing.sequence import pad_sequences\n",
    "from sklearn.model_selection import train_test_split,KFold, cross_val_score\n",
    "from sklearn.metrics import classification_report\n",
    "from sklearn.naive_bayes import MultinomialNB\n",
    "from sklearn.linear_model import LogisticRegression\n",
    "from sklearn.svm import SVC\n",
    "from sklearn.pipeline import Pipeline\n",
    "from sklearn.feature_extraction.text import TfidfVectorizer\n",
    "from xgboost import XGBClassifier\n",
    "from sklearn.model_selection import GridSearchCV\n",
    "import matplotlib.pyplot as plt\n",
    "from scipy.stats import linregress"
   ]
  },
  {
   "cell_type": "markdown",
   "source": [
    "<a name=\"2\"></a>\n",
    "### 2. Preprocessing"
   ],
   "metadata": {
    "collapsed": false
   }
  },
  {
   "cell_type": "markdown",
   "source": [
    "<a name=\"2.1\"></a>\n",
    "#### 2.1. Data importation\n",
    "In the DeepTweet competition data from [kaggle](https://www.kaggle.com/competitions/deeptweets/data), we loaded The data into Pandas DataFrame objects. This DataFrame contain columns representing various attributes such as TweetId, Label and TweetText.\n",
    "- **TweetId** : an anonymous id unique to a given tweet\n",
    "- **Label** : the associated label which is either Sports or Politics\n",
    "- **TweetText** : the text in a tweet"
   ],
   "metadata": {
    "collapsed": false
   }
  },
  {
   "cell_type": "code",
   "execution_count": 242,
   "outputs": [
    {
     "data": {
      "text/plain": "                 TweetId     Label  \\\n0     304271250237304833  Politics   \n1     304834304222064640  Politics   \n2     303568995880144898    Sports   \n3     304366580664528896    Sports   \n4     296770931098009601    Sports   \n...                  ...       ...   \n6520  296675082267410433  Politics   \n6521  306677536195231746    Sports   \n6522  306451295307431937    Sports   \n6523  306088574221176832    Sports   \n6524  277090953242759169  Politics   \n\n                                              TweetText  \n0     '#SecKerry: The value of the @StateDept and @U...  \n1                               '@rraina1481 I fear so'  \n2     'Watch video highlights of the #wwc13 final be...  \n3     'RT @chelscanlan: At Nitro Circus at #AlbertPa...  \n4     '@cricketfox Always a good thing. Thanks for t...  \n...                                                 ...  \n6520  'Photo: PM has laid a wreath at Martyrs Monume...  \n6521  'The secret of the Chennai pitch - crumbling o...  \n6522            @alinabhutto he isn't on Twitter either  \n6523  'Which England player would you take out to di...  \n6524  'Dmitry #Medvedev expressed condolences to the...  \n\n[6525 rows x 3 columns]",
      "text/html": "<div>\n<style scoped>\n    .dataframe tbody tr th:only-of-type {\n        vertical-align: middle;\n    }\n\n    .dataframe tbody tr th {\n        vertical-align: top;\n    }\n\n    .dataframe thead th {\n        text-align: right;\n    }\n</style>\n<table border=\"1\" class=\"dataframe\">\n  <thead>\n    <tr style=\"text-align: right;\">\n      <th></th>\n      <th>TweetId</th>\n      <th>Label</th>\n      <th>TweetText</th>\n    </tr>\n  </thead>\n  <tbody>\n    <tr>\n      <th>0</th>\n      <td>304271250237304833</td>\n      <td>Politics</td>\n      <td>'#SecKerry: The value of the @StateDept and @U...</td>\n    </tr>\n    <tr>\n      <th>1</th>\n      <td>304834304222064640</td>\n      <td>Politics</td>\n      <td>'@rraina1481 I fear so'</td>\n    </tr>\n    <tr>\n      <th>2</th>\n      <td>303568995880144898</td>\n      <td>Sports</td>\n      <td>'Watch video highlights of the #wwc13 final be...</td>\n    </tr>\n    <tr>\n      <th>3</th>\n      <td>304366580664528896</td>\n      <td>Sports</td>\n      <td>'RT @chelscanlan: At Nitro Circus at #AlbertPa...</td>\n    </tr>\n    <tr>\n      <th>4</th>\n      <td>296770931098009601</td>\n      <td>Sports</td>\n      <td>'@cricketfox Always a good thing. Thanks for t...</td>\n    </tr>\n    <tr>\n      <th>...</th>\n      <td>...</td>\n      <td>...</td>\n      <td>...</td>\n    </tr>\n    <tr>\n      <th>6520</th>\n      <td>296675082267410433</td>\n      <td>Politics</td>\n      <td>'Photo: PM has laid a wreath at Martyrs Monume...</td>\n    </tr>\n    <tr>\n      <th>6521</th>\n      <td>306677536195231746</td>\n      <td>Sports</td>\n      <td>'The secret of the Chennai pitch - crumbling o...</td>\n    </tr>\n    <tr>\n      <th>6522</th>\n      <td>306451295307431937</td>\n      <td>Sports</td>\n      <td>@alinabhutto he isn't on Twitter either</td>\n    </tr>\n    <tr>\n      <th>6523</th>\n      <td>306088574221176832</td>\n      <td>Sports</td>\n      <td>'Which England player would you take out to di...</td>\n    </tr>\n    <tr>\n      <th>6524</th>\n      <td>277090953242759169</td>\n      <td>Politics</td>\n      <td>'Dmitry #Medvedev expressed condolences to the...</td>\n    </tr>\n  </tbody>\n</table>\n<p>6525 rows × 3 columns</p>\n</div>"
     },
     "execution_count": 242,
     "metadata": {},
     "output_type": "execute_result"
    }
   ],
   "source": [
    "data = pd.read_csv('data/train.csv', delimiter=',', quotechar='\"')\n",
    "data"
   ],
   "metadata": {
    "collapsed": false
   }
  },
  {
   "cell_type": "markdown",
   "source": [
    "<a name=\"2.2\"></a>\n",
    "#### 2.2 Data Cleaning"
   ],
   "metadata": {
    "collapsed": false
   }
  },
  {
   "cell_type": "code",
   "execution_count": 243,
   "outputs": [],
   "source": [
    "def split_x_y(data):\n",
    "    y = data['Label']\n",
    "    X = data.drop(columns=['Label'])\n",
    "    return X, y\n",
    "\n",
    "X, y = split_x_y(data)"
   ],
   "metadata": {
    "collapsed": false
   }
  },
  {
   "cell_type": "code",
   "execution_count": 244,
   "outputs": [
    {
     "data": {
      "text/plain": "0       1\n1       1\n2       0\n3       0\n4       0\n       ..\n6520    1\n6521    0\n6522    0\n6523    0\n6524    1\nName: Label, Length: 6525, dtype: int64"
     },
     "execution_count": 244,
     "metadata": {},
     "output_type": "execute_result"
    }
   ],
   "source": [
    "y = y.apply(lambda e : 0 if e == 'Sports' else 1)\n",
    "y"
   ],
   "metadata": {
    "collapsed": false
   }
  },
  {
   "cell_type": "code",
   "execution_count": 163,
   "outputs": [],
   "source": [
    "def remove_stopwords(sentence):\n",
    "    stopwords = [\"a\", \"about\", \"above\", \"after\", \"again\", \"against\", \"all\", \"am\", \"an\", \"and\", \"any\", \"are\", \"as\", \"at\", \"be\", \"because\", \"been\", \"before\", \"being\", \"below\", \"between\", \"both\", \"but\", \"by\", \"could\", \"did\", \"do\", \"does\", \"doing\", \"down\", \"during\", \"each\", \"few\", \"for\", \"from\", \"further\", \"had\", \"has\", \"have\", \"having\", \"he\", \"he'd\", \"he'll\", \"he's\", \"her\", \"here\", \"here's\", \"hers\", \"herself\", \"him\", \"himself\", \"his\", \"how\", \"how's\", \"i\", \"i'd\", \"i'll\", \"i'm\", \"i've\", \"if\", \"in\", \"into\", \"is\", \"it\", \"it's\", \"its\", \"itself\", \"let's\", \"me\", \"more\", \"most\", \"my\", \"myself\", \"nor\", \"of\", \"on\", \"once\", \"only\", \"or\", \"other\", \"ought\", \"our\", \"ours\", \"ourselves\", \"out\", \"over\", \"own\", \"same\", \"she\", \"she'd\", \"she'll\", \"she's\", \"should\", \"so\", \"some\", \"such\", \"than\", \"that\", \"that's\", \"the\", \"their\", \"theirs\", \"them\", \"themselves\", \"then\", \"there\", \"there's\", \"these\", \"they\", \"they'd\", \"they'll\", \"they're\", \"they've\", \"this\", \"those\", \"through\", \"to\", \"too\", \"under\", \"until\", \"up\", \"very\", \"was\", \"we\", \"we'd\", \"we'll\", \"we're\", \"we've\", \"were\", \"what\", \"what's\", \"when\", \"when's\", \"where\", \"where's\", \"which\", \"while\", \"who\", \"who's\", \"whom\", \"why\", \"why's\", \"with\", \"would\", \"you\", \"you'd\", \"you'll\", \"you're\", \"you've\", \"your\", \"yours\", \"yourself\", \"yourselves\" ]\n",
    "    sentence = sentence.lower()\n",
    "    words = sentence.split()\n",
    "    words_no_sw = [w for w in words if w not in stopwords]\n",
    "    return \" \".join(words_no_sw)"
   ],
   "metadata": {
    "collapsed": false
   }
  },
  {
   "cell_type": "code",
   "execution_count": 164,
   "outputs": [],
   "source": [
    "def remove_links(sentence):\n",
    "    return re.sub(r\"((https|http)?:\\/\\/)?([\\da-z\\.-]+)\\.([a-z\\.]{2,6})([\\/\\w \\.-]*)\", \"\", sentence)"
   ],
   "metadata": {
    "collapsed": false
   }
  },
  {
   "cell_type": "code",
   "execution_count": 246,
   "outputs": [],
   "source": [
    "def remove_tags(sentence, hatshtags):\n",
    "    if hatshtags:\n",
    "        return re.sub(r\"(@|#)(\\S+)\", \"\", sentence)\n",
    "    return re.sub(r\"(@)(\\S+)\", \"\", sentence)"
   ],
   "metadata": {
    "collapsed": false
   }
  },
  {
   "cell_type": "code",
   "execution_count": 257,
   "outputs": [],
   "source": [
    "def delete_punc(sentence, hatshtags):\n",
    "    punctuation = string.punctuation\n",
    "    if not hatshtags :\n",
    "        punctuation = punctuation.replace('#', '')\n",
    "    return \"\".join([c for c in sentence if c not in punctuation])"
   ],
   "metadata": {
    "collapsed": false
   }
  },
  {
   "cell_type": "code",
   "execution_count": 255,
   "outputs": [],
   "source": [
    "def clean_data(X, hatshtags=False):\n",
    "    # drop the id column\n",
    "    sentences = X.drop(columns=['TweetId'])\n",
    "    # removing english stopwords\n",
    "    sentences['TweetText'] = sentences['TweetText'].apply(remove_stopwords)\n",
    "    # removing links\n",
    "    sentences.loc[:, 'TweetText'] = sentences['TweetText'].apply(remove_links)\n",
    "    # removing tags\n",
    "    sentences.loc[:, 'TweetText'] = sentences['TweetText'].apply(lambda s : remove_tags(s, hatshtags))\n",
    "    # removing punctuation\n",
    "    sentences.loc[:, 'TweetText'] = sentences['TweetText'].apply(lambda s : delete_punc(s, hatshtags))\n",
    "    return sentences"
   ],
   "metadata": {
    "collapsed": false
   }
  },
  {
   "cell_type": "code",
   "execution_count": 258,
   "outputs": [
    {
     "data": {
      "text/plain": "                                           TweetText\n0  #seckerry value   measured not dollars terms d...\n1                                            fear so\n2  watch video highlights #wwc13 final australia ...\n3  rt  nitro circus #albertpark  #theymakeitlooks...\n4                 always good thing thanks feedback ",
      "text/html": "<div>\n<style scoped>\n    .dataframe tbody tr th:only-of-type {\n        vertical-align: middle;\n    }\n\n    .dataframe tbody tr th {\n        vertical-align: top;\n    }\n\n    .dataframe thead th {\n        text-align: right;\n    }\n</style>\n<table border=\"1\" class=\"dataframe\">\n  <thead>\n    <tr style=\"text-align: right;\">\n      <th></th>\n      <th>TweetText</th>\n    </tr>\n  </thead>\n  <tbody>\n    <tr>\n      <th>0</th>\n      <td>#seckerry value   measured not dollars terms d...</td>\n    </tr>\n    <tr>\n      <th>1</th>\n      <td>fear so</td>\n    </tr>\n    <tr>\n      <th>2</th>\n      <td>watch video highlights #wwc13 final australia ...</td>\n    </tr>\n    <tr>\n      <th>3</th>\n      <td>rt  nitro circus #albertpark  #theymakeitlooks...</td>\n    </tr>\n    <tr>\n      <th>4</th>\n      <td>always good thing thanks feedback</td>\n    </tr>\n  </tbody>\n</table>\n</div>"
     },
     "execution_count": 258,
     "metadata": {},
     "output_type": "execute_result"
    }
   ],
   "source": [
    "sentences = clean_data(X)\n",
    "sentences.head()"
   ],
   "metadata": {
    "collapsed": false
   }
  },
  {
   "cell_type": "markdown",
   "source": [
    "<a name=\"3\"></a>\n",
    "### 3. RNN with Tensorflow"
   ],
   "metadata": {
    "collapsed": false
   }
  },
  {
   "cell_type": "markdown",
   "source": [
    "<a name=\"3.1\"></a>\n",
    "#### 3.1 Defining global variables\n",
    "\n",
    "Next we will define some global variables that will be used throughout the first part.\n",
    "\n",
    "- **EMBEDDING_DIM** : Dimension of the dense embedding, will be used in the embedding layer of the model. Defaults to 100.\n",
    "- **MAXLEN** : Maximum length of all sequences. Defaults to 64.\n",
    "- **TRUNCATIN** : Truncating strategy (truncate either before or after each sequence.). Defaults to 'post'.\n",
    "- **PADDING** : Padding strategy (pad either before or after each sequence.). Defaults to 'post'.\n",
    "- **OOV_TOKEN** : Token to replace out-of-vocabulary words during text_to_sequence calls. Defaults to \\\"\\<OOV>\\\".\n",
    "- **TRAINING_SPLIT** : Proportion of data used for training. Defaults to 0.85"
   ],
   "metadata": {
    "collapsed": false
   }
  },
  {
   "cell_type": "code",
   "execution_count": 241,
   "outputs": [],
   "source": [
    "EMBEDDING_DIM = 100\n",
    "MAXLEN = 64\n",
    "TRUNCATING = 'post'\n",
    "PADDING = 'post'\n",
    "OOV_TOKEN = \"<OOV>\"\n",
    "TRAINING_SPLIT = 0.85"
   ],
   "metadata": {
    "collapsed": false
   }
  },
  {
   "cell_type": "markdown",
   "source": [
    "<a name=\"3.2\"></a>\n",
    "#### 3.2 Training - Validation Split"
   ],
   "metadata": {
    "collapsed": false
   }
  },
  {
   "cell_type": "code",
   "execution_count": 203,
   "outputs": [
    {
     "name": "stdout",
     "output_type": "stream",
     "text": [
      "There are 5546 sentences for training.\n",
      "\n",
      "There are 5546 labels for training.\n",
      "\n",
      "There are 979 sentences for validation.\n",
      "\n",
      "There are 979 labels for validation.\n"
     ]
    }
   ],
   "source": [
    "train_sentences, val_sentences, train_labels, val_labels = train_test_split(sentences, y, train_size=TRAINING_SPLIT, random_state=1)\n",
    "\n",
    "print(f\"There are {len(train_sentences)} sentences for training.\\n\")\n",
    "print(f\"There are {len(train_labels)} labels for training.\\n\")\n",
    "print(f\"There are {len(val_sentences)} sentences for validation.\\n\")\n",
    "print(f\"There are {len(val_labels)} labels for validation.\")"
   ],
   "metadata": {
    "collapsed": false
   }
  },
  {
   "cell_type": "markdown",
   "source": [],
   "metadata": {
    "collapsed": false
   }
  },
  {
   "cell_type": "markdown",
   "source": [
    "<a name=\"3.3\"></a>\n",
    "#### 3.3 Tokenization - Sequences, truncating and padding"
   ],
   "metadata": {
    "collapsed": false
   }
  },
  {
   "cell_type": "code",
   "execution_count": 205,
   "outputs": [],
   "source": [
    "def fit_tokenizer(train_sentences, oov_token):\n",
    "    tokenizer = Tokenizer(oov_token=oov_token)\n",
    "    tokenizer.fit_on_texts(train_sentences)\n",
    "    return tokenizer"
   ],
   "metadata": {
    "collapsed": false
   }
  },
  {
   "cell_type": "code",
   "execution_count": 206,
   "outputs": [
    {
     "name": "stdout",
     "output_type": "stream",
     "text": [
      "there are 11876 in our vocabulary\n"
     ]
    }
   ],
   "source": [
    "tokenizer = fit_tokenizer(train_sentences.TweetText, OOV_TOKEN)\n",
    "\n",
    "vocab_size = len(tokenizer.word_index)\n",
    "\n",
    "print(f\"there are {vocab_size} in our vocabulary\")"
   ],
   "metadata": {
    "collapsed": false
   }
  },
  {
   "cell_type": "code",
   "execution_count": 207,
   "outputs": [],
   "source": [
    "def seq_pad_trunc(sentences, tokenizer, padding, truncating, maxlen):\n",
    "    sequences = tokenizer.texts_to_sequences(sentences)\n",
    "    pad_trunc_sequences = pad_sequences(sequences, padding=padding, truncating=truncating, maxlen=maxlen)\n",
    "\n",
    "    return pad_trunc_sequences"
   ],
   "metadata": {
    "collapsed": false
   }
  },
  {
   "cell_type": "code",
   "execution_count": 208,
   "outputs": [
    {
     "name": "stdout",
     "output_type": "stream",
     "text": [
      "Padded and truncated train sequneces shape is : (5546, 96)\n",
      "\n",
      "Padded and truncated validation sequneces shape is : (979, 96)\n",
      "\n"
     ]
    }
   ],
   "source": [
    "train_pad_trunc_seq = seq_pad_trunc(train_sentences.TweetText, tokenizer, PADDING, TRUNCATING, MAXLEN)\n",
    "val_pad_trunc_seq = seq_pad_trunc(val_sentences.TweetText, tokenizer, PADDING, TRUNCATING, MAXLEN)\n",
    "\n",
    "print(f\"Padded and truncated train sequneces shape is : {train_pad_trunc_seq.shape}\\n\")\n",
    "print(f\"Padded and truncated validation sequneces shape is : {val_pad_trunc_seq.shape}\\n\")"
   ],
   "metadata": {
    "collapsed": false
   }
  },
  {
   "cell_type": "code",
   "execution_count": 209,
   "outputs": [],
   "source": [
    "train_labels = train_labels.to_numpy()\n",
    "val_labels = val_labels.to_numpy()"
   ],
   "metadata": {
    "collapsed": false
   }
  },
  {
   "cell_type": "markdown",
   "source": [
    "<a name=\"3.4\"></a>\n",
    "#### 3.4 Using pre-defined Embeddings\n",
    "In our RNN model, we will use word embeddings. For this we will be using pre-trained word vectors.\n",
    "\n",
    "In particular we will be using the 100 dimension version of [GloVe](https://nlp.stanford.edu/projects/glove/) from Stanford."
   ],
   "metadata": {
    "collapsed": false
   }
  },
  {
   "cell_type": "code",
   "execution_count": 210,
   "outputs": [],
   "source": [
    "glove_file= './data/glove.twitter.27B.100d.txt'\n",
    "\n",
    "GLOVE_EMBEDDINGS = {}\n",
    "with open(glove_file, encoding=\"utf8\") as f:\n",
    "    for line in f:\n",
    "        values = line.split()\n",
    "        word = values[0]\n",
    "        coefs = np.array(values[1:], dtype='float32')\n",
    "        GLOVE_EMBEDDINGS[word] = coefs"
   ],
   "metadata": {
    "collapsed": false
   }
  },
  {
   "cell_type": "code",
   "execution_count": 211,
   "outputs": [
    {
     "name": "stdout",
     "output_type": "stream",
     "text": [
      "Vector representation shape is (100,)\n",
      "\n",
      "Vector representation of the word \"and\" : \n",
      "[-1.6697e-01 -3.2589e-01 -1.2003e-02 -1.3198e-01 -1.5361e-01  1.6556e-01\n",
      "  2.5954e-01  1.3112e-01  1.0092e-02 -4.6486e-01 -2.1164e-01  6.4163e-02\n",
      " -6.4094e+00 -2.0224e-01 -8.3826e-03 -5.5104e-01  1.9716e-01 -3.7762e-01\n",
      " -5.0864e-01  6.3963e-02 -7.0967e-01  2.2478e-01 -9.5472e-02 -2.5516e-01\n",
      " -4.1501e-01 -1.9227e-01 -2.2220e-01  4.3598e-01  4.1871e-01 -1.4593e-03\n",
      " -4.6268e-01  1.5682e-01  7.0434e-02 -1.5911e-01 -3.9097e-02 -5.6209e-02\n",
      " -1.2356e-01  2.1481e-01  5.1988e-01 -8.1924e-02 -7.3352e-01 -2.7938e-01\n",
      " -1.3187e-01  5.8902e-01  4.0815e-01 -4.6319e-01 -2.7336e-02 -3.8121e-01\n",
      " -2.0352e-01 -5.2808e-01 -5.8097e-01 -7.5229e-01  9.4600e-02  1.4127e-01\n",
      "  2.4297e-02 -3.9625e-02  2.2790e-01 -4.5293e-02  3.7604e-01  2.0081e-01\n",
      "  4.9062e-02  2.0733e-01 -4.1955e-01  3.0427e-01  1.8665e-01  8.1929e-02\n",
      " -6.1025e-01 -2.3168e-01 -1.3766e-02  4.3951e-01  4.0073e-01 -2.9532e-01\n",
      "  1.0936e-01 -9.4972e-02  2.2750e-01  1.9726e-01  1.1509e-01 -4.3111e-01\n",
      " -3.9048e-01  2.3841e-01  1.9528e+00  6.4820e-01 -4.2610e-03  5.0273e-01\n",
      " -1.8134e-01 -1.8389e-01  1.8205e-01  2.6007e-01 -2.2837e-01 -5.3586e-02\n",
      "  1.8420e-01 -2.6575e-01  3.5818e-01  3.0640e-01  5.2787e-02 -3.0318e-01\n",
      "  2.9216e-02 -6.0589e-01 -2.1294e-01  3.7045e-01]\n"
     ]
    }
   ],
   "source": [
    "test_word = 'and'\n",
    "\n",
    "test_word_vector = GLOVE_EMBEDDINGS[test_word]\n",
    "\n",
    "print(f\"Vector representation shape is {test_word_vector.shape}\\n\")\n",
    "print(f\"Vector representation of the word \\\"{test_word}\\\" : \\n{test_word_vector}\")"
   ],
   "metadata": {
    "collapsed": false
   }
  },
  {
   "cell_type": "markdown",
   "source": [
    "<a name=\"3.5\"></a>\n",
    "#### 3.5 Representing the words in vocabulary using the embeddings\n",
    "\n",
    "First, we save the vector representation of each word in the vocabulary in a numpy array.\n",
    "\n",
    "- If a word in the vocabulary is not present in **GLOVE_EMBEDDINGS** the representation for that word is left as a column of zeros.\n",
    "- **word_index** starts counting at 1, because of this you will need to add an extra column at the left-most side of the **EMBEDDINGS_MATRIX** array. This is the reason why we added 1 to **VOCAB_SIZE**."
   ],
   "metadata": {
    "collapsed": false
   }
  },
  {
   "cell_type": "code",
   "execution_count": 212,
   "outputs": [],
   "source": [
    "EMBEDDING_MATRIX = np.zeros((vocab_size + 1, EMBEDDING_DIM))\n",
    "\n",
    "for word, i in tokenizer.word_index.items():\n",
    "    embedding_vector = GLOVE_EMBEDDINGS.get(word)\n",
    "    if embedding_vector is not None:\n",
    "        EMBEDDING_MATRIX[i] = embedding_vector"
   ],
   "metadata": {
    "collapsed": false
   }
  },
  {
   "cell_type": "markdown",
   "source": [
    "<a name=\"3.6\"></a>\n",
    "#### 3.6 Defining a model\n",
    "Now we define a model that will handle our classification problem while not overfitting.\n",
    "\n",
    "- The first layer is Embedding layer witch is configured by using pre-trained embeddings.\n",
    "- Then we used different combinations of layers such as:\n",
    "    - **LSTM**\n",
    "    - **Bidirectional(LSTM)**\n",
    "    - **BatchNormalization**\n",
    "- The last two layers should be **Dense** layers.\n",
    "- At last, we Icluded a **Dropout** layer to mitigate overfitting."
   ],
   "metadata": {
    "collapsed": false
   }
  },
  {
   "cell_type": "code",
   "execution_count": 218,
   "outputs": [],
   "source": [
    "model = Sequential([\n",
    "    Embedding(vocab_size + 1, EMBEDDING_DIM, input_length = MAXLEN, weights = [EMBEDDING_MATRIX], trainable = False),\n",
    "    Bidirectional(LSTM(96, return_sequences=True)),\n",
    "    Bidirectional(LSTM(48)),\n",
    "    BatchNormalization(),\n",
    "    Dense(1024, activation = 'relu'),\n",
    "    BatchNormalization(),\n",
    "    Dropout(0.1),\n",
    "    Dense(1, activation='sigmoid')\n",
    "])\n",
    "\n",
    "model.compile(loss='binary_crossentropy',\n",
    "              optimizer='adam',\n",
    "              metrics=['accuracy'])"
   ],
   "metadata": {
    "collapsed": false
   }
  },
  {
   "cell_type": "code",
   "execution_count": 219,
   "outputs": [
    {
     "name": "stdout",
     "output_type": "stream",
     "text": [
      "Model: \"sequential_4\"\n",
      "_________________________________________________________________\n",
      " Layer (type)                Output Shape              Param #   \n",
      "=================================================================\n",
      " embedding_4 (Embedding)     (None, 96, 100)           1187700   \n",
      "                                                                 \n",
      " bidirectional_8 (Bidirectio  (None, 96, 192)          151296    \n",
      " nal)                                                            \n",
      "                                                                 \n",
      " bidirectional_9 (Bidirectio  (None, 96)               92544     \n",
      " nal)                                                            \n",
      "                                                                 \n",
      " batch_normalization_10 (Bat  (None, 96)               384       \n",
      " chNormalization)                                                \n",
      "                                                                 \n",
      " dense_10 (Dense)            (None, 1024)              99328     \n",
      "                                                                 \n",
      " batch_normalization_11 (Bat  (None, 1024)             4096      \n",
      " chNormalization)                                                \n",
      "                                                                 \n",
      " dropout_6 (Dropout)         (None, 1024)              0         \n",
      "                                                                 \n",
      " dense_11 (Dense)            (None, 1)                 1025      \n",
      "                                                                 \n",
      "=================================================================\n",
      "Total params: 1,536,373\n",
      "Trainable params: 346,433\n",
      "Non-trainable params: 1,189,940\n",
      "_________________________________________________________________\n"
     ]
    }
   ],
   "source": [
    "model.summary()"
   ],
   "metadata": {
    "collapsed": false
   }
  },
  {
   "cell_type": "code",
   "execution_count": 220,
   "outputs": [
    {
     "name": "stdout",
     "output_type": "stream",
     "text": [
      "Epoch 1/50\n",
      "22/22 [==============================] - 21s 728ms/step - loss: 0.3101 - accuracy: 0.8660 - val_loss: 0.6041 - val_accuracy: 0.8039\n",
      "Epoch 2/50\n",
      "22/22 [==============================] - 13s 576ms/step - loss: 0.1674 - accuracy: 0.9275 - val_loss: 0.5620 - val_accuracy: 0.8866\n",
      "Epoch 3/50\n",
      "22/22 [==============================] - 13s 615ms/step - loss: 0.1427 - accuracy: 0.9385 - val_loss: 0.5138 - val_accuracy: 0.9091\n",
      "Epoch 4/50\n",
      "22/22 [==============================] - 14s 615ms/step - loss: 0.1202 - accuracy: 0.9490 - val_loss: 0.5107 - val_accuracy: 0.8682\n",
      "Epoch 5/50\n",
      "22/22 [==============================] - 14s 618ms/step - loss: 0.0992 - accuracy: 0.9603 - val_loss: 0.4581 - val_accuracy: 0.8999\n",
      "Epoch 6/50\n",
      "22/22 [==============================] - 15s 667ms/step - loss: 0.0872 - accuracy: 0.9638 - val_loss: 0.4086 - val_accuracy: 0.8938\n",
      "Epoch 7/50\n",
      "22/22 [==============================] - 14s 634ms/step - loss: 0.0743 - accuracy: 0.9726 - val_loss: 0.3760 - val_accuracy: 0.8693\n",
      "Epoch 8/50\n",
      "22/22 [==============================] - 14s 622ms/step - loss: 0.0564 - accuracy: 0.9793 - val_loss: 0.3321 - val_accuracy: 0.9040\n",
      "Epoch 9/50\n",
      "22/22 [==============================] - 14s 622ms/step - loss: 0.0469 - accuracy: 0.9841 - val_loss: 0.3056 - val_accuracy: 0.8815\n",
      "Epoch 10/50\n",
      "22/22 [==============================] - 14s 631ms/step - loss: 0.0422 - accuracy: 0.9861 - val_loss: 0.2680 - val_accuracy: 0.8907\n",
      "Epoch 11/50\n",
      "22/22 [==============================] - 14s 635ms/step - loss: 0.0340 - accuracy: 0.9877 - val_loss: 0.2340 - val_accuracy: 0.8968\n",
      "Epoch 12/50\n",
      "22/22 [==============================] - 14s 622ms/step - loss: 0.0371 - accuracy: 0.9868 - val_loss: 0.2315 - val_accuracy: 0.8836\n",
      "Epoch 13/50\n",
      "22/22 [==============================] - 14s 630ms/step - loss: 0.0326 - accuracy: 0.9874 - val_loss: 0.1988 - val_accuracy: 0.9173\n",
      "Epoch 14/50\n",
      "22/22 [==============================] - 14s 622ms/step - loss: 0.0239 - accuracy: 0.9926 - val_loss: 0.1994 - val_accuracy: 0.9070\n",
      "Epoch 15/50\n",
      "22/22 [==============================] - 15s 704ms/step - loss: 0.0220 - accuracy: 0.9917 - val_loss: 0.1854 - val_accuracy: 0.9152\n",
      "Epoch 16/50\n",
      "22/22 [==============================] - 17s 756ms/step - loss: 0.0190 - accuracy: 0.9928 - val_loss: 0.1963 - val_accuracy: 0.9081\n",
      "Epoch 17/50\n",
      "22/22 [==============================] - 16s 736ms/step - loss: 0.0183 - accuracy: 0.9937 - val_loss: 0.1901 - val_accuracy: 0.9193\n",
      "Epoch 18/50\n",
      "22/22 [==============================] - 16s 734ms/step - loss: 0.0186 - accuracy: 0.9921 - val_loss: 0.1964 - val_accuracy: 0.9132\n",
      "Epoch 19/50\n",
      "22/22 [==============================] - 15s 660ms/step - loss: 0.0163 - accuracy: 0.9950 - val_loss: 0.2130 - val_accuracy: 0.9101\n",
      "Epoch 20/50\n",
      "22/22 [==============================] - 14s 615ms/step - loss: 0.0167 - accuracy: 0.9944 - val_loss: 0.2141 - val_accuracy: 0.9162\n",
      "Epoch 21/50\n",
      "22/22 [==============================] - 13s 610ms/step - loss: 0.0180 - accuracy: 0.9926 - val_loss: 0.2273 - val_accuracy: 0.9224\n",
      "Epoch 22/50\n",
      "22/22 [==============================] - 14s 636ms/step - loss: 0.0180 - accuracy: 0.9926 - val_loss: 0.2287 - val_accuracy: 0.9193\n",
      "Epoch 23/50\n",
      "22/22 [==============================] - 14s 632ms/step - loss: 0.0153 - accuracy: 0.9948 - val_loss: 0.2753 - val_accuracy: 0.9060\n",
      "Epoch 24/50\n",
      "22/22 [==============================] - 14s 620ms/step - loss: 0.0162 - accuracy: 0.9935 - val_loss: 0.2395 - val_accuracy: 0.9122\n",
      "Epoch 25/50\n",
      "22/22 [==============================] - 14s 651ms/step - loss: 0.0195 - accuracy: 0.9935 - val_loss: 0.3065 - val_accuracy: 0.9162\n",
      "Epoch 26/50\n",
      "22/22 [==============================] - 14s 639ms/step - loss: 0.0185 - accuracy: 0.9931 - val_loss: 0.2649 - val_accuracy: 0.9152\n",
      "Epoch 27/50\n",
      "22/22 [==============================] - 14s 619ms/step - loss: 0.0156 - accuracy: 0.9939 - val_loss: 0.2890 - val_accuracy: 0.9070\n",
      "Epoch 28/50\n",
      "22/22 [==============================] - 14s 628ms/step - loss: 0.0171 - accuracy: 0.9926 - val_loss: 0.2973 - val_accuracy: 0.9152\n",
      "Epoch 29/50\n",
      "22/22 [==============================] - 15s 673ms/step - loss: 0.0148 - accuracy: 0.9931 - val_loss: 0.2964 - val_accuracy: 0.9152\n",
      "Epoch 30/50\n",
      "22/22 [==============================] - 16s 708ms/step - loss: 0.0133 - accuracy: 0.9942 - val_loss: 0.2821 - val_accuracy: 0.9152\n",
      "Epoch 31/50\n",
      "22/22 [==============================] - 15s 659ms/step - loss: 0.0107 - accuracy: 0.9948 - val_loss: 0.2956 - val_accuracy: 0.9142\n",
      "Epoch 32/50\n",
      "22/22 [==============================] - 14s 628ms/step - loss: 0.0104 - accuracy: 0.9950 - val_loss: 0.3187 - val_accuracy: 0.9193\n",
      "Epoch 33/50\n",
      "22/22 [==============================] - 14s 622ms/step - loss: 0.0090 - accuracy: 0.9948 - val_loss: 0.3264 - val_accuracy: 0.9173\n",
      "Epoch 34/50\n",
      "22/22 [==============================] - 13s 606ms/step - loss: 0.0104 - accuracy: 0.9951 - val_loss: 0.3077 - val_accuracy: 0.9183\n",
      "Epoch 35/50\n",
      "22/22 [==============================] - 14s 638ms/step - loss: 0.0116 - accuracy: 0.9951 - val_loss: 0.3225 - val_accuracy: 0.9101\n",
      "Epoch 36/50\n",
      "22/22 [==============================] - 13s 602ms/step - loss: 0.0107 - accuracy: 0.9955 - val_loss: 0.3734 - val_accuracy: 0.9173\n",
      "Epoch 37/50\n",
      "22/22 [==============================] - 14s 644ms/step - loss: 0.0113 - accuracy: 0.9942 - val_loss: 0.2949 - val_accuracy: 0.9122\n",
      "Epoch 38/50\n",
      "22/22 [==============================] - 13s 605ms/step - loss: 0.0088 - accuracy: 0.9959 - val_loss: 0.3286 - val_accuracy: 0.9132\n",
      "Epoch 39/50\n",
      "22/22 [==============================] - 13s 608ms/step - loss: 0.0097 - accuracy: 0.9948 - val_loss: 0.3402 - val_accuracy: 0.9173\n",
      "Epoch 40/50\n",
      "22/22 [==============================] - 13s 611ms/step - loss: 0.0099 - accuracy: 0.9951 - val_loss: 0.3600 - val_accuracy: 0.9173\n",
      "Epoch 41/50\n",
      "22/22 [==============================] - 13s 610ms/step - loss: 0.0109 - accuracy: 0.9957 - val_loss: 0.3140 - val_accuracy: 0.9152\n",
      "Epoch 42/50\n",
      "22/22 [==============================] - 13s 581ms/step - loss: 0.0085 - accuracy: 0.9959 - val_loss: 0.3371 - val_accuracy: 0.9091\n",
      "Epoch 43/50\n",
      "22/22 [==============================] - 13s 588ms/step - loss: 0.0113 - accuracy: 0.9957 - val_loss: 0.3681 - val_accuracy: 0.9183\n",
      "Epoch 44/50\n",
      "22/22 [==============================] - 13s 582ms/step - loss: 0.0101 - accuracy: 0.9953 - val_loss: 0.3352 - val_accuracy: 0.9162\n",
      "Epoch 45/50\n",
      "22/22 [==============================] - 14s 649ms/step - loss: 0.0080 - accuracy: 0.9960 - val_loss: 0.4043 - val_accuracy: 0.9173\n",
      "Epoch 46/50\n",
      "22/22 [==============================] - 14s 636ms/step - loss: 0.0107 - accuracy: 0.9957 - val_loss: 0.3917 - val_accuracy: 0.9152\n",
      "Epoch 47/50\n",
      "22/22 [==============================] - 13s 587ms/step - loss: 0.0108 - accuracy: 0.9948 - val_loss: 0.3216 - val_accuracy: 0.9152\n",
      "Epoch 48/50\n",
      "22/22 [==============================] - 13s 590ms/step - loss: 0.0104 - accuracy: 0.9948 - val_loss: 0.3407 - val_accuracy: 0.9162\n",
      "Epoch 49/50\n",
      "22/22 [==============================] - 13s 587ms/step - loss: 0.0097 - accuracy: 0.9957 - val_loss: 0.3988 - val_accuracy: 0.9132\n",
      "Epoch 50/50\n",
      "22/22 [==============================] - 13s 581ms/step - loss: 0.0113 - accuracy: 0.9951 - val_loss: 0.4468 - val_accuracy: 0.9081\n"
     ]
    }
   ],
   "source": [
    "history = model.fit(train_pad_trunc_seq,\n",
    "                    train_labels,\n",
    "                    epochs=50,\n",
    "                    validation_data=(val_pad_trunc_seq, val_labels),\n",
    "                    batch_size=256)"
   ],
   "metadata": {
    "collapsed": false
   }
  },
  {
   "cell_type": "markdown",
   "source": [
    "<a name=\"3.7\"></a>\n",
    "#### 3.7 Plotting training history"
   ],
   "metadata": {
    "collapsed": false
   }
  },
  {
   "cell_type": "code",
   "execution_count": 221,
   "outputs": [
    {
     "data": {
      "text/plain": "<Figure size 640x480 with 1 Axes>",
      "image/png": "[encoded data removed]"
     },
     "metadata": {},
     "output_type": "display_data"
    },
    {
     "data": {
      "text/plain": "<Figure size 640x480 with 1 Axes>",
      "image/png": "[encoded data removed]"
     },
     "metadata": {},
     "output_type": "display_data"
    }
   ],
   "source": [
    "acc = history.history['accuracy']\n",
    "val_acc = history.history['val_accuracy']\n",
    "loss = history.history['loss']\n",
    "val_loss = history.history['val_loss']\n",
    "\n",
    "epochs = history.epoch\n",
    "\n",
    "plt.figure(figsize=(15,5))\n",
    "plt.plot(epochs, acc, 'r', label='Training accuracy')\n",
    "plt.plot(epochs, val_acc, 'b', label='Validation accuracy')\n",
    "plt.xticks(epochs)\n",
    "plt.title('Training and validation accuracy')\n",
    "plt.legend()\n",
    "plt.figure()\n",
    "\n",
    "plt.plot(epochs, loss, 'r', label='Training Loss')\n",
    "plt.plot(epochs, val_loss, 'b', label='Validation Loss')\n",
    "plt.xticks(epochs)\n",
    "plt.title('Training and validation loss')\n",
    "plt.legend()\n",
    "\n",
    "plt.show()"
   ],
   "metadata": {
    "collapsed": false
   }
  },
  {
   "cell_type": "code",
   "execution_count": 222,
   "outputs": [
    {
     "name": "stdout",
     "output_type": "stream",
     "text": [
      "The slope of the validation loss curve is -0.00030\n"
     ]
    }
   ],
   "source": [
    "slope, *_ = linregress(epochs, val_loss)\n",
    "print(f\"The slope of the validation loss curve is {slope:.5f}\")"
   ],
   "metadata": {
    "collapsed": false
   }
  },
  {
   "cell_type": "markdown",
   "source": [
    "<a name=\"3.8\"></a>\n",
    "#### 3.8 Testing model"
   ],
   "metadata": {
    "collapsed": false
   }
  },
  {
   "cell_type": "code",
   "execution_count": 223,
   "outputs": [],
   "source": [
    "test_df = pd.read_csv('data/test.csv', delimiter=',', quotechar='\"')\n",
    "test_cleaned = clean_data(test_df, False)\n",
    "test_pad_trunc_seq = seq_pad_trunc(test_cleaned.TweetText, tokenizer, PADDING, TRUNCATING, MAXLEN)"
   ],
   "metadata": {
    "collapsed": false
   }
  },
  {
   "cell_type": "code",
   "execution_count": 224,
   "outputs": [
    {
     "name": "stdout",
     "output_type": "stream",
     "text": [
      "82/82 [==============================] - 9s 93ms/step\n"
     ]
    },
    {
     "data": {
      "text/plain": "array([[4.4413450e-01],\n       [6.5898307e-02],\n       [1.0000000e+00],\n       ...,\n       [5.0637100e-06],\n       [9.9998569e-01],\n       [4.7297433e-02]], dtype=float32)"
     },
     "execution_count": 224,
     "metadata": {},
     "output_type": "execute_result"
    }
   ],
   "source": [
    "predections = model.predict(test_pad_trunc_seq)\n",
    "predections"
   ],
   "metadata": {
    "collapsed": false
   }
  },
  {
   "cell_type": "code",
   "execution_count": 225,
   "outputs": [
    {
     "data": {
      "text/plain": "                 TweetId     Label\n0     306486520121012224    Sports\n1     286353402605228032    Sports\n2     289531046037438464  Politics\n3     306451661403062273  Politics\n4     297941800658812928    Sports\n...                  ...       ...\n2605  282023761044189184    Sports\n2606  303879735006601216  Politics\n2607  297956846046703616    Sports\n2608  304265049537658880  Politics\n2609  306430391928115200    Sports\n\n[2610 rows x 2 columns]",
      "text/html": "<div>\n<style scoped>\n    .dataframe tbody tr th:only-of-type {\n        vertical-align: middle;\n    }\n\n    .dataframe tbody tr th {\n        vertical-align: top;\n    }\n\n    .dataframe thead th {\n        text-align: right;\n    }\n</style>\n<table border=\"1\" class=\"dataframe\">\n  <thead>\n    <tr style=\"text-align: right;\">\n      <th></th>\n      <th>TweetId</th>\n      <th>Label</th>\n    </tr>\n  </thead>\n  <tbody>\n    <tr>\n      <th>0</th>\n      <td>306486520121012224</td>\n      <td>Sports</td>\n    </tr>\n    <tr>\n      <th>1</th>\n      <td>286353402605228032</td>\n      <td>Sports</td>\n    </tr>\n    <tr>\n      <th>2</th>\n      <td>289531046037438464</td>\n      <td>Politics</td>\n    </tr>\n    <tr>\n      <th>3</th>\n      <td>306451661403062273</td>\n      <td>Politics</td>\n    </tr>\n    <tr>\n      <th>4</th>\n      <td>297941800658812928</td>\n      <td>Sports</td>\n    </tr>\n    <tr>\n      <th>...</th>\n      <td>...</td>\n      <td>...</td>\n    </tr>\n    <tr>\n      <th>2605</th>\n      <td>282023761044189184</td>\n      <td>Sports</td>\n    </tr>\n    <tr>\n      <th>2606</th>\n      <td>303879735006601216</td>\n      <td>Politics</td>\n    </tr>\n    <tr>\n      <th>2607</th>\n      <td>297956846046703616</td>\n      <td>Sports</td>\n    </tr>\n    <tr>\n      <th>2608</th>\n      <td>304265049537658880</td>\n      <td>Politics</td>\n    </tr>\n    <tr>\n      <th>2609</th>\n      <td>306430391928115200</td>\n      <td>Sports</td>\n    </tr>\n  </tbody>\n</table>\n<p>2610 rows × 2 columns</p>\n</div>"
     },
     "execution_count": 225,
     "metadata": {},
     "output_type": "execute_result"
    }
   ],
   "source": [
    "submissions = pd.DataFrame({'TweetId': test_df['TweetId'], 'Label' : np.where(predections.reshape(-1) < 0.5, 'Sports', 'Politics')})\n",
    "submissions"
   ],
   "metadata": {
    "collapsed": false
   }
  },
  {
   "cell_type": "code",
   "execution_count": 226,
   "outputs": [],
   "source": [
    "submissions.to_csv('./submissions/submission.csv', index=False)"
   ],
   "metadata": {
    "collapsed": false
   }
  },
  {
   "cell_type": "markdown",
   "source": [
    "<a name=\"4\"></a>\n",
    "#### 4. Model comparison"
   ],
   "metadata": {
    "collapsed": false
   }
  },
  {
   "cell_type": "code",
   "execution_count": 313,
   "outputs": [],
   "source": [
    "tfidf = ('TfidfTransformer', TfidfVectorizer())\n",
    "models = []\n",
    "models.append(('MultinomialNB', Pipeline([tfidf, ('MultinomialNB', MultinomialNB())])))\n",
    "models.append(('LogisticRegression', Pipeline([tfidf, ('LogisticRegression', LogisticRegression())])))\n",
    "models.append(('SVM', Pipeline([tfidf, ('SVM', SVC())])))\n",
    "models.append(('XGBoost', Pipeline([tfidf, ('XGBoost', XGBClassifier())])))"
   ],
   "metadata": {
    "collapsed": false
   }
  },
  {
   "cell_type": "code",
   "execution_count": 296,
   "outputs": [],
   "source": [
    "cleaned_X = clean_data(X, True)"
   ],
   "metadata": {
    "collapsed": false
   }
  },
  {
   "cell_type": "code",
   "execution_count": 314,
   "outputs": [
    {
     "data": {
      "text/plain": "[{'MultinomialNB': '0.9236710808401984 +/- 0.012273127695233255'},\n {'LogisticRegression': '0.9123356729055259 +/- 0.012464956583737837'},\n {'SVM': '0.9213774268921329 +/- 0.013590251310843142'},\n {'XGBoost': '0.8608327160716867 +/- 0.018218867315324815'}]"
     },
     "execution_count": 314,
     "metadata": {},
     "output_type": "execute_result"
    }
   ],
   "source": [
    "splits = 16\n",
    "score = 'accuracy'\n",
    "models_score =[]\n",
    "for i in models:\n",
    "    kfold = KFold(n_splits=splits)\n",
    "    results = cross_val_score(i[1], cleaned_X['TweetText'], y, cv=kfold, scoring=score)\n",
    "    models_score.append({i[0] : '{} +/- {}'.format(results.mean(), results.std())})\n",
    "models_score"
   ],
   "metadata": {
    "collapsed": false
   }
  },
  {
   "cell_type": "code",
   "execution_count": 316,
   "outputs": [],
   "source": [
    "selected_model = models[0][1]"
   ],
   "metadata": {
    "collapsed": false
   }
  },
  {
   "cell_type": "code",
   "execution_count": 323,
   "outputs": [],
   "source": [
    "parameters = {\n",
    "    'TfidfTransformer__use_idf': (True, False),\n",
    "    'MultinomialNB__alpha': (2, 1, 1e-1, 1e-2, 1e-3),\n",
    "}"
   ],
   "metadata": {
    "collapsed": false
   }
  },
  {
   "cell_type": "code",
   "execution_count": 329,
   "outputs": [],
   "source": [
    "gs_clf = GridSearchCV(selected_model, parameters, cv=16, n_jobs=-1)"
   ],
   "metadata": {
    "collapsed": false
   }
  },
  {
   "cell_type": "code",
   "execution_count": 330,
   "outputs": [
    {
     "data": {
      "text/plain": "GridSearchCV(cv=16,\n             estimator=Pipeline(steps=[('TfidfTransformer', TfidfVectorizer()),\n                                       ('MultinomialNB', MultinomialNB())]),\n             n_jobs=-1,\n             param_grid={'MultinomialNB__alpha': (2, 1, 0.1, 0.01, 0.001),\n                         'TfidfTransformer__use_idf': (True, False)})",
      "text/html": "<style>#sk-container-id-12 {color: black;background-color: white;}#sk-container-id-12 pre{padding: 0;}#sk-container-id-12 div.sk-toggleable {background-color: white;}#sk-container-id-12 label.sk-toggleable__label {cursor: pointer;display: block;width: 100%;margin-bottom: 0;padding: 0.3em;box-sizing: border-box;text-align: center;}#sk-container-id-12 label.sk-toggleable__label-arrow:before {content: \"▸\";float: left;margin-right: 0.25em;color: #696969;}#sk-container-id-12 label.sk-toggleable__label-arrow:hover:before {color: black;}#sk-container-id-12 div.sk-estimator:hover label.sk-toggleable__label-arrow:before {color: black;}#sk-container-id-12 div.sk-toggleable__content {max-height: 0;max-width: 0;overflow: hidden;text-align: left;background-color: #f0f8ff;}#sk-container-id-12 div.sk-toggleable__content pre {margin: 0.2em;color: black;border-radius: 0.25em;background-color: #f0f8ff;}#sk-container-id-12 input.sk-toggleable__control:checked~div.sk-toggleable__content {max-height: 200px;max-width: 100%;overflow: auto;}#sk-container-id-12 input.sk-toggleable__control:checked~label.sk-toggleable__label-arrow:before {content: \"▾\";}#sk-container-id-12 div.sk-estimator input.sk-toggleable__control:checked~label.sk-toggleable__label {background-color: #d4ebff;}#sk-container-id-12 div.sk-label input.sk-toggleable__control:checked~label.sk-toggleable__label {background-color: #d4ebff;}#sk-container-id-12 input.sk-hidden--visually {border: 0;clip: rect(1px 1px 1px 1px);clip: rect(1px, 1px, 1px, 1px);height: 1px;margin: -1px;overflow: hidden;padding: 0;position: absolute;width: 1px;}#sk-container-id-12 div.sk-estimator {font-family: monospace;background-color: #f0f8ff;border: 1px dotted black;border-radius: 0.25em;box-sizing: border-box;margin-bottom: 0.5em;}#sk-container-id-12 div.sk-estimator:hover {background-color: #d4ebff;}#sk-container-id-12 div.sk-parallel-item::after {content: \"\";width: 100%;border-bottom: 1px solid gray;flex-grow: 1;}#sk-container-id-12 div.sk-label:hover label.sk-toggleable__label {background-color: #d4ebff;}#sk-container-id-12 div.sk-serial::before {content: \"\";position: absolute;border-left: 1px solid gray;box-sizing: border-box;top: 0;bottom: 0;left: 50%;z-index: 0;}#sk-container-id-12 div.sk-serial {display: flex;flex-direction: column;align-items: center;background-color: white;padding-right: 0.2em;padding-left: 0.2em;position: relative;}#sk-container-id-12 div.sk-item {position: relative;z-index: 1;}#sk-container-id-12 div.sk-parallel {display: flex;align-items: stretch;justify-content: center;background-color: white;position: relative;}#sk-container-id-12 div.sk-item::before, #sk-container-id-12 div.sk-parallel-item::before {content: \"\";position: absolute;border-left: 1px solid gray;box-sizing: border-box;top: 0;bottom: 0;left: 50%;z-index: -1;}#sk-container-id-12 div.sk-parallel-item {display: flex;flex-direction: column;z-index: 1;position: relative;background-color: white;}#sk-container-id-12 div.sk-parallel-item:first-child::after {align-self: flex-end;width: 50%;}#sk-container-id-12 div.sk-parallel-item:last-child::after {align-self: flex-start;width: 50%;}#sk-container-id-12 div.sk-parallel-item:only-child::after {width: 0;}#sk-container-id-12 div.sk-dashed-wrapped {border: 1px dashed gray;margin: 0 0.4em 0.5em 0.4em;box-sizing: border-box;padding-bottom: 0.4em;background-color: white;}#sk-container-id-12 div.sk-label label {font-family: monospace;font-weight: bold;display: inline-block;line-height: 1.2em;}#sk-container-id-12 div.sk-label-container {text-align: center;}#sk-container-id-12 div.sk-container {/* jupyter's `normalize.less` sets `[hidden] { display: none; }` but bootstrap.min.css set `[hidden] { display: none !important; }` so we also need the `!important` here to be able to override the default hidden behavior on the sphinx rendered scikit-learn.org. See: https://github.com/scikit-learn/scikit-learn/issues/21755 */display: inline-block !important;position: relative;}#sk-container-id-12 div.sk-text-repr-fallback {display: none;}</style><div id=\"sk-container-id-12\" class=\"sk-top-container\"><div class=\"sk-text-repr-fallback\"><pre>GridSearchCV(cv=16,\n             estimator=Pipeline(steps=[(&#x27;TfidfTransformer&#x27;, TfidfVectorizer()),\n                                       (&#x27;MultinomialNB&#x27;, MultinomialNB())]),\n             n_jobs=-1,\n             param_grid={&#x27;MultinomialNB__alpha&#x27;: (2, 1, 0.1, 0.01, 0.001),\n                         &#x27;TfidfTransformer__use_idf&#x27;: (True, False)})</pre><b>In a Jupyter environment, please rerun this cell to show the HTML representation or trust the notebook. <br />On GitHub, the HTML representation is unable to render, please try loading this page with nbviewer.org.</b></div><div class=\"sk-container\" hidden><div class=\"sk-item sk-dashed-wrapped\"><div class=\"sk-label-container\"><div class=\"sk-label sk-toggleable\"><input class=\"sk-toggleable__control sk-hidden--visually\" id=\"sk-estimator-id-17\" type=\"checkbox\" ><label for=\"sk-estimator-id-17\" class=\"sk-toggleable__label sk-toggleable__label-arrow\">GridSearchCV</label><div class=\"sk-toggleable__content\"><pre>GridSearchCV(cv=16,\n             estimator=Pipeline(steps=[(&#x27;TfidfTransformer&#x27;, TfidfVectorizer()),\n                                       (&#x27;MultinomialNB&#x27;, MultinomialNB())]),\n             n_jobs=-1,\n             param_grid={&#x27;MultinomialNB__alpha&#x27;: (2, 1, 0.1, 0.01, 0.001),\n                         &#x27;TfidfTransformer__use_idf&#x27;: (True, False)})</pre></div></div></div><div class=\"sk-parallel\"><div class=\"sk-parallel-item\"><div class=\"sk-item\"><div class=\"sk-label-container\"><div class=\"sk-label sk-toggleable\"><input class=\"sk-toggleable__control sk-hidden--visually\" id=\"sk-estimator-id-18\" type=\"checkbox\" ><label for=\"sk-estimator-id-18\" class=\"sk-toggleable__label sk-toggleable__label-arrow\">estimator: Pipeline</label><div class=\"sk-toggleable__content\"><pre>Pipeline(steps=[(&#x27;TfidfTransformer&#x27;, TfidfVectorizer()),\n                (&#x27;MultinomialNB&#x27;, MultinomialNB())])</pre></div></div></div><div class=\"sk-serial\"><div class=\"sk-item\"><div class=\"sk-serial\"><div class=\"sk-item\"><div class=\"sk-estimator sk-toggleable\"><input class=\"sk-toggleable__control sk-hidden--visually\" id=\"sk-estimator-id-19\" type=\"checkbox\" ><label for=\"sk-estimator-id-19\" class=\"sk-toggleable__label sk-toggleable__label-arrow\">TfidfVectorizer</label><div class=\"sk-toggleable__content\"><pre>TfidfVectorizer()</pre></div></div></div><div class=\"sk-item\"><div class=\"sk-estimator sk-toggleable\"><input class=\"sk-toggleable__control sk-hidden--visually\" id=\"sk-estimator-id-20\" type=\"checkbox\" ><label for=\"sk-estimator-id-20\" class=\"sk-toggleable__label sk-toggleable__label-arrow\">MultinomialNB</label><div class=\"sk-toggleable__content\"><pre>MultinomialNB()</pre></div></div></div></div></div></div></div></div></div></div></div></div>"
     },
     "execution_count": 330,
     "metadata": {},
     "output_type": "execute_result"
    }
   ],
   "source": [
    "gs_clf.fit(cleaned_X['TweetText'], y)"
   ],
   "metadata": {
    "collapsed": false
   }
  },
  {
   "cell_type": "code",
   "execution_count": 335,
   "outputs": [
    {
     "data": {
      "text/plain": "{'MultinomialNB__alpha': 0.1, 'TfidfTransformer__use_idf': False}"
     },
     "execution_count": 335,
     "metadata": {},
     "output_type": "execute_result"
    }
   ],
   "source": [
    "gs_clf.best_params_"
   ],
   "metadata": {
    "collapsed": false
   }
  },
  {
   "cell_type": "code",
   "execution_count": 331,
   "outputs": [
    {
     "data": {
      "text/plain": "0.927196623428241"
     },
     "execution_count": 331,
     "metadata": {},
     "output_type": "execute_result"
    }
   ],
   "source": [
    "gs_clf.best_score_"
   ],
   "metadata": {
    "collapsed": false
   }
  },
  {
   "cell_type": "code",
   "execution_count": 332,
   "outputs": [],
   "source": [
    "best_selected_model = gs_clf.best_estimator_"
   ],
   "metadata": {
    "collapsed": false
   }
  },
  {
   "cell_type": "code",
   "execution_count": 333,
   "outputs": [
    {
     "data": {
      "text/plain": "                 TweetId     Label\n0     306486520121012224    Sports\n1     286353402605228032    Sports\n2     289531046037438464  Politics\n3     306451661403062273  Politics\n4     297941800658812928    Sports\n...                  ...       ...\n2605  282023761044189184    Sports\n2606  303879735006601216    Sports\n2607  297956846046703616    Sports\n2608  304265049537658880  Politics\n2609  306430391928115200  Politics\n\n[2610 rows x 2 columns]",
      "text/html": "<div>\n<style scoped>\n    .dataframe tbody tr th:only-of-type {\n        vertical-align: middle;\n    }\n\n    .dataframe tbody tr th {\n        vertical-align: top;\n    }\n\n    .dataframe thead th {\n        text-align: right;\n    }\n</style>\n<table border=\"1\" class=\"dataframe\">\n  <thead>\n    <tr style=\"text-align: right;\">\n      <th></th>\n      <th>TweetId</th>\n      <th>Label</th>\n    </tr>\n  </thead>\n  <tbody>\n    <tr>\n      <th>0</th>\n      <td>306486520121012224</td>\n      <td>Sports</td>\n    </tr>\n    <tr>\n      <th>1</th>\n      <td>286353402605228032</td>\n      <td>Sports</td>\n    </tr>\n    <tr>\n      <th>2</th>\n      <td>289531046037438464</td>\n      <td>Politics</td>\n    </tr>\n    <tr>\n      <th>3</th>\n      <td>306451661403062273</td>\n      <td>Politics</td>\n    </tr>\n    <tr>\n      <th>4</th>\n      <td>297941800658812928</td>\n      <td>Sports</td>\n    </tr>\n    <tr>\n      <th>...</th>\n      <td>...</td>\n      <td>...</td>\n    </tr>\n    <tr>\n      <th>2605</th>\n      <td>282023761044189184</td>\n      <td>Sports</td>\n    </tr>\n    <tr>\n      <th>2606</th>\n      <td>303879735006601216</td>\n      <td>Sports</td>\n    </tr>\n    <tr>\n      <th>2607</th>\n      <td>297956846046703616</td>\n      <td>Sports</td>\n    </tr>\n    <tr>\n      <th>2608</th>\n      <td>304265049537658880</td>\n      <td>Politics</td>\n    </tr>\n    <tr>\n      <th>2609</th>\n      <td>306430391928115200</td>\n      <td>Politics</td>\n    </tr>\n  </tbody>\n</table>\n<p>2610 rows × 2 columns</p>\n</div>"
     },
     "execution_count": 333,
     "metadata": {},
     "output_type": "execute_result"
    }
   ],
   "source": [
    "cleaned_test = clean_data(test_df, True)['TweetText']\n",
    "predections_mnb = best_selected_model.predict(cleaned_test)\n",
    "submissions_mnb = pd.DataFrame({'TweetId': test_df['TweetId'], 'Label' : np.where(predections_mnb.reshape(-1) < 0.5, 'Sports', 'Politics')})\n",
    "submissions_mnb"
   ],
   "metadata": {
    "collapsed": false
   }
  },
  {
   "cell_type": "code",
   "execution_count": 334,
   "outputs": [],
   "source": [
    "submissions_mnb.to_csv('./submissions/submission_mnb.csv', index=False)"
   ],
   "metadata": {
    "collapsed": false
   }
  }
 ],
 "metadata": {
  "kernelspec": {
   "display_name": "Python 3",
   "language": "python",
   "name": "python3"
  },
  "language_info": {
   "codemirror_mode": {
    "name": "ipython",
    "version": 2
   },
   "file_extension": ".py",
   "mimetype": "text/x-python",
   "name": "python",
   "nbconvert_exporter": "python",
   "pygments_lexer": "ipython2",
   "version": "2.7.6"
  }
 },
 "nbformat": 4,
 "nbformat_minor": 0
}
